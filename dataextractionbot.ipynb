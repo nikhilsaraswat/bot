{
  "nbformat": 4,
  "nbformat_minor": 0,
  "metadata": {
    "colab": {
      "name": "Untitled1.ipynb",
      "provenance": []
    },
    "kernelspec": {
      "name": "python3",
      "display_name": "Python 3"
    },
    "language_info": {
      "name": "python"
    }
  },
  "cells": [
    {
      "cell_type": "markdown",
      "source": [
        "Importing Libraries"
      ],
      "metadata": {
        "id": "HbxEX-3vlDxz"
      }
    },
    {
      "cell_type": "code",
      "source": [
        "from bs4 import BeautifulSoup\n",
        "\n",
        "import requests\n",
        "\n",
        "import time\n",
        "\n",
        "import datetime\n",
        "\n",
        "import smtplib\n",
        "\n",
        "import pandas as pd"
      ],
      "metadata": {
        "id": "V_QugzLOlJ19"
      },
      "execution_count": null,
      "outputs": []
    },
    {
      "cell_type": "markdown",
      "source": [
        "Selecting product using URL"
      ],
      "metadata": {
        "id": "TF3Fq_DjlSV2"
      }
    },
    {
      "cell_type": "code",
      "source": [
        "URL = 'https://www.amazon.co.uk/Childrens-Ladies-Unisex-T-Shirt-School/dp/B00U0147O4/ref=asc_df_B00U0147O4/?tag=googshopuk-21&linkCode=df0&hvadid=381559419266&hvpos=&hvnetw=g&hvrand=9054591290523914755&hvpone=&hvptwo=&hvqmt=&hvdev=c&hvdvcmdl=&hvlocint=&hvlocphy=9044955&hvtargid=pla-816181315895&psc=1&tag=&ref=&adgrpid=83537430411&hvpone=&hvptwo=&hvadid=381559419266&hvpos=&hvnetw=g&hvrand=9054591290523914755&hvqmt=&hvdev=c&hvdvcmdl=&hvlocint=&hvlocphy=9044955&hvtargid=pla-816181315895'"
      ],
      "metadata": {
        "id": "7jPu5FbQlV55"
      },
      "execution_count": null,
      "outputs": []
    },
    {
      "cell_type": "markdown",
      "source": [
        "Defining the header content for scraping"
      ],
      "metadata": {
        "id": "sI8j2RdYleEy"
      }
    },
    {
      "cell_type": "code",
      "source": [
        "headers = {\"User-Agent\": \"Mozilla/5.0 (Windows NT 10.0; Win64; x64) AppleWebKit/537.36 (KHTML, like Gecko) Chrome/95.0.4638.54 Safari/537.36\"}"
      ],
      "metadata": {
        "id": "ctjxcIVkljlz"
      },
      "execution_count": null,
      "outputs": []
    },
    {
      "cell_type": "markdown",
      "source": [
        "Extracting HTML page"
      ],
      "metadata": {
        "id": "N_0r6HublpqS"
      }
    },
    {
      "cell_type": "code",
      "source": [
        "page = requests.get(URL, headers=headers)\n",
        "\n",
        "soup1 = BeautifulSoup(page.content, \"html.parser\")\n",
        "\n",
        "soup2 = BeautifulSoup(soup1.prettify(),\"html.parser\")\n"
      ],
      "metadata": {
        "id": "VvEckmyJlsS0"
      },
      "execution_count": null,
      "outputs": []
    },
    {
      "cell_type": "code",
      "source": [
        "print(soup1)"
      ],
      "metadata": {
        "id": "zqfDdtMHmPF8"
      },
      "execution_count": null,
      "outputs": []
    },
    {
      "cell_type": "markdown",
      "source": [
        "Extracting Product Title"
      ],
      "metadata": {
        "id": "ERnleeXclwFQ"
      }
    },
    {
      "cell_type": "code",
      "source": [
        "title = soup2.find(id=\"productTitle\").get_text()"
      ],
      "metadata": {
        "id": "VrBlriueobKJ"
      },
      "execution_count": null,
      "outputs": []
    },
    {
      "cell_type": "markdown",
      "source": [
        "Extracting Product Price"
      ],
      "metadata": {
        "id": "WXVHncFEofb2"
      }
    },
    {
      "cell_type": "code",
      "source": [
        "price = soup2.find(id=\"corePrice_desktop\").get_text()"
      ],
      "metadata": {
        "id": "w3-XpYtKoii7"
      },
      "execution_count": null,
      "outputs": []
    },
    {
      "cell_type": "markdown",
      "source": [
        "Extracting Product Color Name"
      ],
      "metadata": {
        "id": "IL-OjcHSomF4"
      }
    },
    {
      "cell_type": "code",
      "source": [
        "colour = soup2.find(id=\"variation_color_name\").get_text()"
      ],
      "metadata": {
        "id": "4lxf-8IrosJr"
      },
      "execution_count": null,
      "outputs": []
    },
    {
      "cell_type": "markdown",
      "source": [
        "removing white spaces and selecting certain characters from string"
      ],
      "metadata": {
        "id": "a54OrKP7ovL5"
      }
    },
    {
      "cell_type": "code",
      "source": [
        "price1 = price.strip()[51:56]\n",
        "\n",
        "title= title.strip()"
      ],
      "metadata": {
        "id": "hHN9HLKNoy7i"
      },
      "execution_count": null,
      "outputs": []
    },
    {
      "cell_type": "markdown",
      "source": [
        "todays's date"
      ],
      "metadata": {
        "id": "N5AfaRoIo13x"
      }
    },
    {
      "cell_type": "code",
      "source": [
        "today = datetime.date.today()"
      ],
      "metadata": {
        "id": "RBxfWsizo5CQ"
      },
      "execution_count": null,
      "outputs": []
    },
    {
      "cell_type": "markdown",
      "source": [
        "removing white spaces and selecting certain characters from string"
      ],
      "metadata": {
        "id": "gLQoVxGRo-WJ"
      }
    },
    {
      "cell_type": "code",
      "source": [
        "colour1 = colour.strip()[49:]"
      ],
      "metadata": {
        "id": "rAGaJyhCo7f0"
      },
      "execution_count": null,
      "outputs": []
    },
    {
      "cell_type": "markdown",
      "source": [
        "library to form csv file"
      ],
      "metadata": {
        "id": "3eRfHtXSpBlF"
      }
    },
    {
      "cell_type": "code",
      "source": [
        "import csv"
      ],
      "metadata": {
        "id": "w31gFQh2pGHc"
      },
      "execution_count": null,
      "outputs": []
    },
    {
      "cell_type": "markdown",
      "source": [
        "column headings of csv file"
      ],
      "metadata": {
        "id": "E6ShrP6mpKyq"
      }
    },
    {
      "cell_type": "code",
      "source": [
        "header = ['Title','Price', 'Date', 'Colour']"
      ],
      "metadata": {
        "id": "K0_VyoSEpOSJ"
      },
      "execution_count": null,
      "outputs": []
    },
    {
      "cell_type": "markdown",
      "source": [
        "data to be filled in these columns"
      ],
      "metadata": {
        "id": "q_BMJZLGpQje"
      }
    },
    {
      "cell_type": "code",
      "source": [
        "data = [title, price1, today, colour1]"
      ],
      "metadata": {
        "id": "SevduCETpTQy"
      },
      "execution_count": null,
      "outputs": []
    },
    {
      "cell_type": "markdown",
      "source": [
        "writing csv"
      ],
      "metadata": {
        "id": "FJL8BlVEpWUK"
      }
    },
    {
      "cell_type": "code",
      "source": [
        "with open('AmazonWebScraperDataset.csv','w',newline='',encoding='UTF8') as f:\n",
        "\n",
        "writer = csv.writer(f)\n",
        "\n",
        "writer.writerow(header)\n",
        "\n",
        "writer.writerow(data)"
      ],
      "metadata": {
        "id": "zxRxRxIrpZUc"
      },
      "execution_count": null,
      "outputs": []
    },
    {
      "cell_type": "markdown",
      "source": [
        "adding lines to csv"
      ],
      "metadata": {
        "id": "V1oWoS3qpdPz"
      }
    },
    {
      "cell_type": "code",
      "source": [
        "with open('AmazonWebScraperDataset.csv','a+',newline='',encoding='UTF8') as f:\n",
        "\n",
        "writer = csv.writer(f)\n",
        "\n",
        "writer.writerow(data)\n",
        "\n",
        "while(True):\n",
        "\n",
        "check_price()"
      ],
      "metadata": {
        "id": "LMFjIxgzpsHM"
      },
      "execution_count": null,
      "outputs": []
    },
    {
      "cell_type": "markdown",
      "source": [
        "adding timer to update at regular interval"
      ],
      "metadata": {
        "id": "LkqfW9QYpvXo"
      }
    },
    {
      "cell_type": "code",
      "source": [
        "time.sleep(5)"
      ],
      "metadata": {
        "id": "l7Qcbgejp16z"
      },
      "execution_count": null,
      "outputs": []
    },
    {
      "cell_type": "markdown",
      "source": [
        "library to send email"
      ],
      "metadata": {
        "id": "IVyM1bnCp4B7"
      }
    },
    {
      "cell_type": "code",
      "source": [
        "import smtplib, ssl"
      ],
      "metadata": {
        "id": "h8J52CEDp6ux"
      },
      "execution_count": null,
      "outputs": []
    },
    {
      "cell_type": "markdown",
      "source": [
        "defining class and adding neccessary information including content to send mail."
      ],
      "metadata": {
        "id": "tlEnqCcfp_Xn"
      }
    },
    {
      "cell_type": "code",
      "source": [
        "def send_mail():\n",
        "\n",
        "port = 587 # For starttls\n",
        "\n",
        "smtp_server = \"smtp.gmail.com\"\n",
        "\n",
        "sender_email = \"xxxxxxxxxxxxxxx@gmail.com\"\n",
        "\n",
        "receiver_email = \"xxxxxxxxxxxxxx@gmail.com\"\n",
        "\n",
        "# password = input(\"Type your password and press enter:\"\n",
        "\n",
        "password = \"************************\"\n",
        "\n",
        "message = \"\"\"\\\n",
        "\n",
        "subject: Hi there\n",
        "\n",
        "This message is sent from Python.\"\"\"\n",
        "\n",
        "context = ssl.create_default_context()\n",
        "\n",
        "with smtplib.SMTP(smtp_server, port) as server:\n",
        "\n",
        "server.ehlo() # Can be omitted\n",
        "\n",
        "server.starttls(context=context)\n",
        "\n",
        "server.ehlo() # Can be omitted\n",
        "\n",
        "server.login(sender_email, password)\n",
        "\n",
        "server.sendmail(sender_email, receiver_email, message)\n",
        "\n",
        "if(float(price1) < 4):\n",
        "\n",
        "send_mail()"
      ],
      "metadata": {
        "id": "vOfsuNUip9I6"
      },
      "execution_count": null,
      "outputs": []
    }
  ]
}